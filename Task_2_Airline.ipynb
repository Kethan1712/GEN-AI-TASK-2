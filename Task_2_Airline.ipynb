{
  "nbformat": 4,
  "nbformat_minor": 0,
  "metadata": {
    "colab": {
      "provenance": [],
      "authorship_tag": "ABX9TyM9kLjicCtyBkpxLnbJdgmJ",
      "include_colab_link": true
    },
    "kernelspec": {
      "name": "python3",
      "display_name": "Python 3"
    },
    "language_info": {
      "name": "python"
    }
  },
  "cells": [
    {
      "cell_type": "markdown",
      "metadata": {
        "id": "view-in-github",
        "colab_type": "text"
      },
      "source": [
        "<a href=\"https://colab.research.google.com/github/Kethan1712/GEN-AI-TASK-2/blob/main/Task_2_Airline.ipynb\" target=\"_parent\"><img src=\"https://colab.research.google.com/assets/colab-badge.svg\" alt=\"Open In Colab\"/></a>"
      ]
    },
    {
      "cell_type": "code",
      "source": [
        "import pandas as pd\n",
        "import random\n",
        "\n",
        "# Define feedback samples for each sentiment category\n",
        "feedback_samples = {\n",
        "    \"positive\": [\n",
        "        \"The flight attendants were very friendly and helpful.\",\n",
        "        \"Smooth check-in and a comfortable flight.\",\n",
        "        \"Excellent service, will definitely fly again!\",\n",
        "        \"The food was surprisingly good and the seats were comfy.\",\n",
        "        \"On-time departure and arrival, great experience overall.\"\n",
        "    ],\n",
        "    \"neutral\": [\n",
        "        \"The flight was okay, nothing special.\",\n",
        "        \"Average service, not too bad.\",\n",
        "        \"It was just a regular flight experience.\",\n",
        "        \"Nothing stood out, but no major issues either.\",\n",
        "        \"Everything went as expected, pretty standard.\"\n",
        "    ],\n",
        "    \"negative\": [\n",
        "        \"The flight was delayed and staff were rude.\",\n",
        "        \"Terrible food and cramped seating.\",\n",
        "        \"Customer service was unhelpful and slow.\",\n",
        "        \"Luggage was lost and the flight was overbooked.\",\n",
        "        \"Worst flying experience I've had in years.\"\n",
        "    ]\n",
        "}\n",
        "\n",
        "# Function to generate dataset\n",
        "def generate_airline_feedback_dataset(n_samples):\n",
        "    data = []\n",
        "    for _ in range(n_samples):\n",
        "        sentiment = random.choice(list(feedback_samples.keys()))\n",
        "        text = random.choice(feedback_samples[sentiment])\n",
        "        data.append({\"feedback_text\": text, \"sentiment_label\": sentiment})\n",
        "    return pd.DataFrame(data)\n",
        "\n",
        "# Generate datasets\n",
        "train_df = generate_airline_feedback_dataset(300)\n",
        "test_df = generate_airline_feedback_dataset(100)\n",
        "\n",
        "# Save to CSV files\n",
        "train_df.to_csv(\"airline_feedback_train.csv\", index=False)\n",
        "test_df.to_csv(\"airline_feedback_test.csv\", index=False)\n",
        "\n",
        "print(\"✅ Synthetic airline feedback datasets generated successfully!\")\n",
        "print(\"➡️ airline_feedback_train.csv (300 samples)\")\n",
        "print(\"➡️ airline_feedback_test.csv (100 samples)\")\n"
      ],
      "metadata": {
        "colab": {
          "base_uri": "https://localhost:8080/"
        },
        "id": "E_BRGBmXcpl8",
        "outputId": "3ddaea8e-e169-4aaa-b7a9-08136401588b"
      },
      "execution_count": 1,
      "outputs": [
        {
          "output_type": "stream",
          "name": "stdout",
          "text": [
            "✅ Synthetic airline feedback datasets generated successfully!\n",
            "➡️ airline_feedback_train.csv (300 samples)\n",
            "➡️ airline_feedback_test.csv (100 samples)\n"
          ]
        }
      ]
    },
    {
      "cell_type": "code",
      "source": [
        "import pandas as pd\n",
        "import re\n",
        "import matplotlib.pyplot as plt\n",
        "import seaborn as sns\n",
        "\n",
        "from sklearn.feature_extraction.text import TfidfVectorizer\n",
        "from sklearn.linear_model import LogisticRegression\n",
        "from sklearn.metrics import classification_report, confusion_matrix, accuracy_score\n",
        "from sklearn.preprocessing import LabelEncoder\n",
        "\n",
        "# Load the data\n",
        "train_df = pd.read_csv(\"airline_feedback_train.csv\")\n",
        "test_df = pd.read_csv(\"airline_feedback_test.csv\")\n",
        "\n",
        "# Preprocessing function (no NLTK)\n",
        "def preprocess_text(text):\n",
        "    text = text.lower()                             # Lowercase\n",
        "    text = re.sub(r'[^a-z\\s]', '', text)            # Remove special characters and numbers\n",
        "    text = \" \".join(text.split())                   # Remove extra whitespace\n",
        "    return text\n",
        "\n",
        "# Apply preprocessing\n",
        "train_df['clean_text'] = train_df['feedback_text'].apply(preprocess_text)\n",
        "test_df['clean_text'] = test_df['feedback_text'].apply(preprocess_text)\n",
        "\n",
        "# Encode sentiment labels\n",
        "le = LabelEncoder()\n",
        "train_labels = le.fit_transform(train_df['sentiment_label'])\n",
        "test_labels = le.transform(test_df['sentiment_label'])\n",
        "\n",
        "# TF-IDF Vectorization\n",
        "vectorizer = TfidfVectorizer(stop_words='english')  # Built-in stopword removal\n",
        "X_train = vectorizer.fit_transform(train_df['clean_text'])\n",
        "X_test = vectorizer.transform(test_df['clean_text'])\n",
        "\n",
        "# Train Logistic Regression\n",
        "model = LogisticRegression(max_iter=200)\n",
        "model.fit(X_train, train_labels)\n",
        "\n",
        "# Make predictions\n",
        "predictions = model.predict(X_test)\n",
        "\n",
        "# Evaluation\n",
        "print(\"Classification Report:\\n\")\n",
        "print(classification_report(test_labels, predictions, target_names=le.classes_))\n",
        "\n",
        "accuracy = accuracy_score(test_labels, predictions)\n",
        "print(f\"Accuracy: {accuracy:.2f}\")\n",
        "\n",
        "# Confusion Matrix\n",
        "cm = confusion_matrix(test_labels, predictions)\n",
        "plt.figure(figsize=(6, 5))\n",
        "sns.heatmap(cm, annot=True, fmt='d', xticklabels=le.classes_, yticklabels=le.classes_, cmap='Blues')\n",
        "plt.title('Confusion Matrix - Logistic Regression')\n",
        "plt.xlabel('Predicted')\n",
        "plt.ylabel('Actual')\n",
        "plt.tight_layout()\n",
        "plt.show()\n"
      ],
      "metadata": {
        "colab": {
          "base_uri": "https://localhost:8080/",
          "height": 733
        },
        "id": "ssgwjum-eDEb",
        "outputId": "522ddd25-8392-4eec-b451-a242718e3064"
      },
      "execution_count": 3,
      "outputs": [
        {
          "output_type": "stream",
          "name": "stdout",
          "text": [
            "Classification Report:\n",
            "\n",
            "              precision    recall  f1-score   support\n",
            "\n",
            "    negative       1.00      1.00      1.00        23\n",
            "     neutral       1.00      1.00      1.00        44\n",
            "    positive       1.00      1.00      1.00        33\n",
            "\n",
            "    accuracy                           1.00       100\n",
            "   macro avg       1.00      1.00      1.00       100\n",
            "weighted avg       1.00      1.00      1.00       100\n",
            "\n",
            "Accuracy: 1.00\n"
          ]
        },
        {
          "output_type": "display_data",
          "data": {
            "text/plain": [
              "<Figure size 600x500 with 2 Axes>"
            ],
            "image/png": "[encoded data removed]"
          },
          "metadata": {}
        }
      ]
    }
  ]
}